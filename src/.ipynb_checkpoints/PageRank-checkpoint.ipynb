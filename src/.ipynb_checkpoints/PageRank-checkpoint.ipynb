{
 "cells": [
  {
   "cell_type": "markdown",
   "metadata": {},
   "source": [
    "# What is PageRank?\n",
    "## And Its Uses Other Than Search\n",
    "\n",
    "PageRank is the algorithm developed by Google founders Larry Page and Sergey Brin. While pursuing graduate degrees in Mathematics at Stanford University, Larry and Sergey developed a webpage ranking algorithm that revolutionized web search as we knew it. But what exactly does that mean?  \n",
    "\n",
    "Prior to Google and PageRank (before my time, so please don't hark if I have minute inaccuracies), search engines such as Yahoo! simply searched webpages randomly for keywords in hopes that a page with the most occurrences of a search keyword would be the most relevant and, therefore, top ranked page in the query. This model did not perform very well, however. It would often show sites that aggregated links to other pages as the top result for many unrelated searches and neglect sites relevant to a search that did not possess the exact keywords. If this model were still here today, it may have been augmented by natural language processing or a deep learning model, but that's a post for another day.  \n",
    "\n",
    "Larry and Sergey changed the game by inventing an algorithm that ranked pages differently. They remembered that nearly all webpages, even back then ;), had hyperlinks that pointed to other pages, and those pages pointed to even more pages. This interconnection of pages can be accurately modeled by discrete graphs **link to the girl on dev.to that teaches cs data structures**. Each page on the Internet can be represented by a node on the graph, and a hyperlink to another page can be represented by an edge connecting the two nodes.  \n",
    "\n",
    "** Picture of page graph **\n",
    "\n",
    "Now we have a pretty good model of the Internet, and it's discrete, so it's easy to implement in code. So, how do we rank these sites based on relevance to a search query?  \n",
    "\n",
    "*In PageRank, the most relevant page in a search is essentially that which is linked to the most.* We can find this visually by looking at which node has the most arrows pointed to it, but this gets more difficult as our graph gets larger. Plus, computers don't understand pictures that well anyway. Instead, we can do this mathematically by representing each node and its edges with a matrix. We'll call this matrix **I**, for Internet.  \n",
    "\n",
    "** Matrix representing the graph in math and Python **\n",
    "\n",
    "Each row and column in the matrix represents a node's connections. Elements in the matrix with a value of 0 mean that those nodes aren't connected (i.e. nodes aren't connected to themselves). Since we don't *yet* know which of the nodes is the most important, the outgoing weights of each edge are divided equally per node. We now have a matrix that can accurately represent our graph, so how do we find the most important node mathematically?  \n",
    "\n",
    "We multiply this matrix by a \"relevance\" vector. As we progress through the algorithm, this vector will change and give us the importance of each node. Since we still don't know exactly which one is the most important, we divide the importance of each node equally. We'll call this vector **R**, for relevance.  \n",
    "\n",
    "** Relevance vector (Math and Python)**\n",
    "\n",
    "To increase the accuracy of our relevance vector, we multiply our Internet matrix by our relevance vector.  \n",
    "\n",
    "** Show I x R in math and Python **\n",
    "\n",
    "The resulting vector is a more accurate model of the importance of each node, but it's not yet what we want. Let's do it a couple more times.  \n",
    "\n",
    "** Iteratively multiply I by R and show new vectors **\n",
    "\n",
    "After a few iterations, we see that each element in our relevance vector is converging onto a unique value. Each row in the vector represents a node. Those values are the relative importances of each node in our graph.  \n",
    "\n",
    "** Show final relevance vector values labeled next to the nodes in the graph. **\n",
    "\n",
    "So the most relevant page in our original search query is A, because it has the highest value out of each of the nodes.  \n",
    "\n",
    "Hooray! We now know what PageRank is! The near monopoly that Google has on web search nowadays proves how great of an algorithm PageRank is. Are there any other applications of the algorithm other than search, you ask? Why of course! **PageRank is basically an algorithm for determining which node in the graph is the most important or influential. This means that it can be applied to, really, any situation that can be modeled using a discrete graph.**. \n",
    "\n",
    "One example of this is in biological systems..."
   ]
  }
 ],
 "metadata": {
  "kernelspec": {
   "display_name": "Python 2",
   "language": "python",
   "name": "python2"
  },
  "language_info": {
   "codemirror_mode": {
    "name": "ipython",
    "version": 2
   },
   "file_extension": ".py",
   "mimetype": "text/x-python",
   "name": "python",
   "nbconvert_exporter": "python",
   "pygments_lexer": "ipython2",
   "version": "2.7.10"
  }
 },
 "nbformat": 4,
 "nbformat_minor": 2
}
